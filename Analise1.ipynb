{
 "cells": [
  {
   "cell_type": "code",
   "execution_count": 37,
   "id": "2dd94277",
   "metadata": {},
   "outputs": [],
   "source": [
    "import pandas as pd\n",
    "import numpy as np\n",
    "import matplotlib.pyplot as plt\n",
    "import seaborn as sns\n",
    "import plotly.express as px"
   ]
  },
  {
   "cell_type": "code",
   "execution_count": 13,
   "id": "bd37f5e7",
   "metadata": {},
   "outputs": [],
   "source": [
    "df = pd.read_csv('youtube-top-100-songs-2025.csv')"
   ]
  },
  {
   "cell_type": "code",
   "execution_count": 14,
   "id": "a511fd5a",
   "metadata": {},
   "outputs": [
    {
     "data": {
      "text/html": [
       "<div>\n",
       "<style scoped>\n",
       "    .dataframe tbody tr th:only-of-type {\n",
       "        vertical-align: middle;\n",
       "    }\n",
       "\n",
       "    .dataframe tbody tr th {\n",
       "        vertical-align: top;\n",
       "    }\n",
       "\n",
       "    .dataframe thead th {\n",
       "        text-align: right;\n",
       "    }\n",
       "</style>\n",
       "<table border=\"1\" class=\"dataframe\">\n",
       "  <thead>\n",
       "    <tr style=\"text-align: right;\">\n",
       "      <th></th>\n",
       "      <th>title</th>\n",
       "      <th>fulltitle</th>\n",
       "      <th>description</th>\n",
       "      <th>view_count</th>\n",
       "      <th>categories</th>\n",
       "      <th>tags</th>\n",
       "      <th>duration</th>\n",
       "      <th>duration_string</th>\n",
       "      <th>live_status</th>\n",
       "      <th>thumbnail</th>\n",
       "      <th>channel</th>\n",
       "      <th>channel_url</th>\n",
       "      <th>channel_follower_count</th>\n",
       "    </tr>\n",
       "  </thead>\n",
       "  <tbody>\n",
       "    <tr>\n",
       "      <th>0</th>\n",
       "      <td>ROSÉ &amp; Bruno Mars - APT. (Official Music Video)</td>\n",
       "      <td>ROSÉ &amp; Bruno Mars - APT. (Official Music Video)</td>\n",
       "      <td>ROSÉ &amp; Bruno Mars - APT.\\nDownload/stream: ht...</td>\n",
       "      <td>2009014557</td>\n",
       "      <td>Music</td>\n",
       "      <td>YG Entertainment;YG;와이지;K-pop;BLACKPINK;블랙핑크;블...</td>\n",
       "      <td>173</td>\n",
       "      <td>2:53</td>\n",
       "      <td>False</td>\n",
       "      <td>https://i.ytimg.com/vi_webp/ekr2nIex040/maxres...</td>\n",
       "      <td>ROSÉ</td>\n",
       "      <td>https://www.youtube.com/channel/UCBo1hnzxV9rz3...</td>\n",
       "      <td>19200000</td>\n",
       "    </tr>\n",
       "    <tr>\n",
       "      <th>1</th>\n",
       "      <td>Lady Gaga, Bruno Mars - Die With A Smile (Offi...</td>\n",
       "      <td>Lady Gaga, Bruno Mars - Die With A Smile (Offi...</td>\n",
       "      <td>MAYHEM OUT NOW\\nhttp://ladygaga.com \\n \\nListe...</td>\n",
       "      <td>1324833300</td>\n",
       "      <td>Music</td>\n",
       "      <td>Lady Gaga;Bruno Mars;Interscope;Pop</td>\n",
       "      <td>252</td>\n",
       "      <td>4:12</td>\n",
       "      <td>False</td>\n",
       "      <td>https://i.ytimg.com/vi/kPa7bsKwL-c/maxresdefau...</td>\n",
       "      <td>Lady Gaga</td>\n",
       "      <td>https://www.youtube.com/channel/UC07Kxew-cMIay...</td>\n",
       "      <td>29600000</td>\n",
       "    </tr>\n",
       "    <tr>\n",
       "      <th>2</th>\n",
       "      <td>Reneé Rapp - Leave Me Alone (Official Music Vi...</td>\n",
       "      <td>Reneé Rapp - Leave Me Alone (Official Music Vi...</td>\n",
       "      <td>Listen to “BITE ME”, the new album from Reneé ...</td>\n",
       "      <td>2536628</td>\n",
       "      <td>Music</td>\n",
       "      <td>Reneé Rapp;Interscope Records;Pop</td>\n",
       "      <td>160</td>\n",
       "      <td>2:40</td>\n",
       "      <td>False</td>\n",
       "      <td>https://i.ytimg.com/vi/tiPWzFLiz4A/maxresdefau...</td>\n",
       "      <td>Reneé Rapp</td>\n",
       "      <td>https://www.youtube.com/channel/UCZy4ki_L4bzw9...</td>\n",
       "      <td>408000</td>\n",
       "    </tr>\n",
       "    <tr>\n",
       "      <th>3</th>\n",
       "      <td>Billie Eilish - BIRDS OF A FEATHER (Official M...</td>\n",
       "      <td>Billie Eilish - BIRDS OF A FEATHER (Official M...</td>\n",
       "      <td>Listen to HIT ME HARD AND SOFT: https://billie...</td>\n",
       "      <td>558329099</td>\n",
       "      <td>Music</td>\n",
       "      <td>Billie Eilish;Darkroom/Interscope Records;Alte...</td>\n",
       "      <td>231</td>\n",
       "      <td>3:51</td>\n",
       "      <td>False</td>\n",
       "      <td>https://i.ytimg.com/vi/V9PVRfjEBTI/maxresdefau...</td>\n",
       "      <td>Billie Eilish</td>\n",
       "      <td>https://www.youtube.com/channel/UCDGmojLIoWpXo...</td>\n",
       "      <td>56800000</td>\n",
       "    </tr>\n",
       "    <tr>\n",
       "      <th>4</th>\n",
       "      <td>Reneé Rapp - Mad (Official Music Video)</td>\n",
       "      <td>Reneé Rapp - Mad (Official Music Video)</td>\n",
       "      <td>Listen to “BITE ME”, the new album from Reneé ...</td>\n",
       "      <td>2113548</td>\n",
       "      <td>Music</td>\n",
       "      <td>Reneé Rapp;Interscope Records;Pop</td>\n",
       "      <td>180</td>\n",
       "      <td>3:00</td>\n",
       "      <td>False</td>\n",
       "      <td>https://i.ytimg.com/vi/xkWQM3flsiY/maxresdefau...</td>\n",
       "      <td>Reneé Rapp</td>\n",
       "      <td>https://www.youtube.com/channel/UCZy4ki_L4bzw9...</td>\n",
       "      <td>408000</td>\n",
       "    </tr>\n",
       "  </tbody>\n",
       "</table>\n",
       "</div>"
      ],
      "text/plain": [
       "                                               title  \\\n",
       "0   ROSÉ & Bruno Mars - APT. (Official Music Video)   \n",
       "1  Lady Gaga, Bruno Mars - Die With A Smile (Offi...   \n",
       "2  Reneé Rapp - Leave Me Alone (Official Music Vi...   \n",
       "3  Billie Eilish - BIRDS OF A FEATHER (Official M...   \n",
       "4            Reneé Rapp - Mad (Official Music Video)   \n",
       "\n",
       "                                           fulltitle  \\\n",
       "0   ROSÉ & Bruno Mars - APT. (Official Music Video)   \n",
       "1  Lady Gaga, Bruno Mars - Die With A Smile (Offi...   \n",
       "2  Reneé Rapp - Leave Me Alone (Official Music Vi...   \n",
       "3  Billie Eilish - BIRDS OF A FEATHER (Official M...   \n",
       "4            Reneé Rapp - Mad (Official Music Video)   \n",
       "\n",
       "                                         description  view_count categories  \\\n",
       "0  ROSÉ & Bruno Mars - APT.\\nDownload/stream: ht...  2009014557      Music   \n",
       "1  MAYHEM OUT NOW\\nhttp://ladygaga.com \\n \\nListe...  1324833300      Music   \n",
       "2  Listen to “BITE ME”, the new album from Reneé ...     2536628      Music   \n",
       "3  Listen to HIT ME HARD AND SOFT: https://billie...   558329099      Music   \n",
       "4  Listen to “BITE ME”, the new album from Reneé ...     2113548      Music   \n",
       "\n",
       "                                                tags  duration  \\\n",
       "0  YG Entertainment;YG;와이지;K-pop;BLACKPINK;블랙핑크;블...       173   \n",
       "1                Lady Gaga;Bruno Mars;Interscope;Pop       252   \n",
       "2                  Reneé Rapp;Interscope Records;Pop       160   \n",
       "3  Billie Eilish;Darkroom/Interscope Records;Alte...       231   \n",
       "4                  Reneé Rapp;Interscope Records;Pop       180   \n",
       "\n",
       "  duration_string  live_status  \\\n",
       "0            2:53        False   \n",
       "1            4:12        False   \n",
       "2            2:40        False   \n",
       "3            3:51        False   \n",
       "4            3:00        False   \n",
       "\n",
       "                                           thumbnail        channel  \\\n",
       "0  https://i.ytimg.com/vi_webp/ekr2nIex040/maxres...           ROSÉ   \n",
       "1  https://i.ytimg.com/vi/kPa7bsKwL-c/maxresdefau...      Lady Gaga   \n",
       "2  https://i.ytimg.com/vi/tiPWzFLiz4A/maxresdefau...     Reneé Rapp   \n",
       "3  https://i.ytimg.com/vi/V9PVRfjEBTI/maxresdefau...  Billie Eilish   \n",
       "4  https://i.ytimg.com/vi/xkWQM3flsiY/maxresdefau...     Reneé Rapp   \n",
       "\n",
       "                                         channel_url  channel_follower_count  \n",
       "0  https://www.youtube.com/channel/UCBo1hnzxV9rz3...                19200000  \n",
       "1  https://www.youtube.com/channel/UC07Kxew-cMIay...                29600000  \n",
       "2  https://www.youtube.com/channel/UCZy4ki_L4bzw9...                  408000  \n",
       "3  https://www.youtube.com/channel/UCDGmojLIoWpXo...                56800000  \n",
       "4  https://www.youtube.com/channel/UCZy4ki_L4bzw9...                  408000  "
      ]
     },
     "execution_count": 14,
     "metadata": {},
     "output_type": "execute_result"
    }
   ],
   "source": [
    "df.head()"
   ]
  },
  {
   "cell_type": "code",
   "execution_count": 15,
   "id": "11cac8f7",
   "metadata": {},
   "outputs": [
    {
     "data": {
      "text/plain": [
       "title                      0.0\n",
       "fulltitle                  0.0\n",
       "description                0.0\n",
       "view_count                 0.0\n",
       "categories                 0.0\n",
       "tags                      15.0\n",
       "duration                   0.0\n",
       "duration_string            0.0\n",
       "live_status                0.0\n",
       "thumbnail                  0.0\n",
       "channel                    0.0\n",
       "channel_url                0.0\n",
       "channel_follower_count     0.0\n",
       "dtype: float64"
      ]
     },
     "execution_count": 15,
     "metadata": {},
     "output_type": "execute_result"
    }
   ],
   "source": [
    "df.isnull().mean()*100"
   ]
  },
  {
   "cell_type": "code",
   "execution_count": null,
   "id": "5ca493a9",
   "metadata": {},
   "outputs": [
    {
     "data": {
      "image/png": "[encoded data removed]",
      "text/plain": [
       "<Figure size 1000x600 with 1 Axes>"
      ]
     },
     "metadata": {},
     "output_type": "display_data"
    }
   ],
   "source": [
    "#Mostra os 5 artistas / canais donos das musicas do top 100 mais vizualizadas em 2025\n",
    "df_musicas = df['channel']\n",
    "df_vizus = df['view_count']\n",
    "\n",
    "df_sorted = df.sort_values(by='view_count', ascending=False).head(5)\n",
    "plt.figure(figsize=(10, 6))\n",
    "plt.bar(df_sorted['channel'], df_sorted['view_count'], color='purple')\n",
    "plt.title('Canais das Músicas mais visualizadas no YouTube')\n",
    "plt.xlabel('Artistas / Canais')\n",
    "plt.ylabel('Visualizações')\n",
    "plt.xticks(rotation=45)\n",
    "\n",
    "for i, valor in enumerate(df_sorted['view_count']):\n",
    "    plt.text(i, valor + 5_000_000, f'{valor/1e6:.1f}M', ha='center')\n",
    "\n",
    "plt.tight_layout()\n",
    "plt.show()"
   ]
  },
  {
   "cell_type": "code",
   "execution_count": null,
   "id": "85a4678e",
   "metadata": {},
   "outputs": [
    {
     "data": {
      "image/png": "[encoded data removed]",
      "text/plain": [
       "<Figure size 1000x600 with 1 Axes>"
      ]
     },
     "metadata": {},
     "output_type": "display_data"
    }
   ],
   "source": [
    "#Mostra as 5 musicas do top 100 musicas mais vizualizadas em 2025\n",
    "df_sorted = df.sort_values(by='view_count', ascending=False).head(5)\n",
    "\n",
    "plt.figure(figsize=(10, 6))\n",
    "plt.barh(df_sorted['title'], df_sorted['view_count'], color='purple')\n",
    "\n",
    "plt.title('Músicas mais visualizadas no YouTube', fontsize=14)\n",
    "plt.xlabel('Visualizações', fontsize=12)\n",
    "plt.ylabel('Músicas', fontsize=12)\n",
    "\n",
    "plt.yticks(fontsize=7)\n",
    "\n",
    "plt.gca().invert_yaxis()\n",
    "\n",
    "for i, (valor, nome) in enumerate(zip(df_sorted['view_count'], df_sorted['title'])):\n",
    "    plt.text(valor + 5_000_000, i, f'{valor/1e6:.1f}M', va='center', fontsize=9)\n",
    "\n",
    "plt.tight_layout()\n",
    "plt.show()\n"
   ]
  },
  {
   "cell_type": "code",
   "execution_count": 62,
   "id": "c2e7c3b8",
   "metadata": {},
   "outputs": [
    {
     "data": {
      "application/vnd.plotly.v1+json": {
       "config": {
        "plotlyServerURL": "https://plot.ly"
       },
       "data": [
        {
         "alignmentgroup": "True",
         "hovertemplate": "channel=%{x}<br>view_count=%{marker.color}<extra></extra>",
         "legendgroup": "",
         "marker": {
          "color": [
           2009014557,
           1324833300,
           558329099,
           472570966,
           397228595
          ],
          "coloraxis": "coloraxis",
          "pattern": {
           "shape": ""
          }
         },
         "name": "",
         "offsetgroup": "",
         "orientation": "v",
         "showlegend": false,
         "text": [
          2009014557,
          1324833300,
          558329099,
          472570966,
          397228595
         ],
         "textposition": "auto",
         "type": "bar",
         "x": [
          "ROSÉ",
          "Lady Gaga",
          "Billie Eilish",
          "Sabrina Carpenter",
          "Kendrick Lamar"
         ],
         "xaxis": "x",
         "y": [
          2009014557,
          1324833300,
          558329099,
          472570966,
          397228595
         ],
         "yaxis": "y"
        }
       ],
       "layout": {
        "barmode": "relative",
        "coloraxis": {
         "colorbar": {
          "title": {
           "text": "view_count"
          }
         },
         "colorscale": [
          [
           0,
           "rgb(252,251,253)"
          ],
          [
           0.125,
           "rgb(239,237,245)"
          ],
          [
           0.25,
           "rgb(218,218,235)"
          ],
          [
           0.375,
           "rgb(188,189,220)"
          ],
          [
           0.5,
           "rgb(158,154,200)"
          ],
          [
           0.625,
           "rgb(128,125,186)"
          ],
          [
           0.75,
           "rgb(106,81,163)"
          ],
          [
           0.875,
           "rgb(84,39,143)"
          ],
          [
           1,
           "rgb(63,0,125)"
          ]
         ]
        },
        "font": {
         "size": 12
        },
        "legend": {
         "tracegroupgap": 0
        },
        "template": {
         "data": {
          "bar": [
           {
            "error_x": {
             "color": "#2a3f5f"
            },
            "error_y": {
             "color": "#2a3f5f"
            },
            "marker": {
             "line": {
              "color": "#E5ECF6",
              "width": 0.5
             },
             "pattern": {
              "fillmode": "overlay",
              "size": 10,
              "solidity": 0.2
             }
            },
            "type": "bar"
           }
          ],
          "barpolar": [
           {
            "marker": {
             "line": {
              "color": "#E5ECF6",
              "width": 0.5
             },
             "pattern": {
              "fillmode": "overlay",
              "size": 10,
              "solidity": 0.2
             }
            },
            "type": "barpolar"
           }
          ],
          "carpet": [
           {
            "aaxis": {
             "endlinecolor": "#2a3f5f",
             "gridcolor": "white",
             "linecolor": "white",
             "minorgridcolor": "white",
             "startlinecolor": "#2a3f5f"
            },
            "baxis": {
             "endlinecolor": "#2a3f5f",
             "gridcolor": "white",
             "linecolor": "white",
             "minorgridcolor": "white",
             "startlinecolor": "#2a3f5f"
            },
            "type": "carpet"
           }
          ],
          "choropleth": [
           {
            "colorbar": {
             "outlinewidth": 0,
             "ticks": ""
            },
            "type": "choropleth"
           }
          ],
          "contour": [
           {
            "colorbar": {
             "outlinewidth": 0,
             "ticks": ""
            },
            "colorscale": [
             [
              0,
              "#0d0887"
             ],
             [
              0.1111111111111111,
              "#46039f"
             ],
             [
              0.2222222222222222,
              "#7201a8"
             ],
             [
              0.3333333333333333,
              "#9c179e"
             ],
             [
              0.4444444444444444,
              "#bd3786"
             ],
             [
              0.5555555555555556,
              "#d8576b"
             ],
             [
              0.6666666666666666,
              "#ed7953"
             ],
             [
              0.7777777777777778,
              "#fb9f3a"
             ],
             [
              0.8888888888888888,
              "#fdca26"
             ],
             [
              1,
              "#f0f921"
             ]
            ],
            "type": "contour"
           }
          ],
          "contourcarpet": [
           {
            "colorbar": {
             "outlinewidth": 0,
             "ticks": ""
            },
            "type": "contourcarpet"
           }
          ],
          "heatmap": [
           {
            "colorbar": {
             "outlinewidth": 0,
             "ticks": ""
            },
            "colorscale": [
             [
              0,
              "#0d0887"
             ],
             [
              0.1111111111111111,
              "#46039f"
             ],
             [
              0.2222222222222222,
              "#7201a8"
             ],
             [
              0.3333333333333333,
              "#9c179e"
             ],
             [
              0.4444444444444444,
              "#bd3786"
             ],
             [
              0.5555555555555556,
              "#d8576b"
             ],
             [
              0.6666666666666666,
              "#ed7953"
             ],
             [
              0.7777777777777778,
              "#fb9f3a"
             ],
             [
              0.8888888888888888,
              "#fdca26"
             ],
             [
              1,
              "#f0f921"
             ]
            ],
            "type": "heatmap"
           }
          ],
          "heatmapgl": [
           {
            "colorbar": {
             "outlinewidth": 0,
             "ticks": ""
            },
            "colorscale": [
             [
              0,
              "#0d0887"
             ],
             [
              0.1111111111111111,
              "#46039f"
             ],
             [
              0.2222222222222222,
              "#7201a8"
             ],
             [
              0.3333333333333333,
              "#9c179e"
             ],
             [
              0.4444444444444444,
              "#bd3786"
             ],
             [
              0.5555555555555556,
              "#d8576b"
             ],
             [
              0.6666666666666666,
              "#ed7953"
             ],
             [
              0.7777777777777778,
              "#fb9f3a"
             ],
             [
              0.8888888888888888,
              "#fdca26"
             ],
             [
              1,
              "#f0f921"
             ]
            ],
            "type": "heatmapgl"
           }
          ],
          "histogram": [
           {
            "marker": {
             "pattern": {
              "fillmode": "overlay",
              "size": 10,
              "solidity": 0.2
             }
            },
            "type": "histogram"
           }
          ],
          "histogram2d": [
           {
            "colorbar": {
             "outlinewidth": 0,
             "ticks": ""
            },
            "colorscale": [
             [
              0,
              "#0d0887"
             ],
             [
              0.1111111111111111,
              "#46039f"
             ],
             [
              0.2222222222222222,
              "#7201a8"
             ],
             [
              0.3333333333333333,
              "#9c179e"
             ],
             [
              0.4444444444444444,
              "#bd3786"
             ],
             [
              0.5555555555555556,
              "#d8576b"
             ],
             [
              0.6666666666666666,
              "#ed7953"
             ],
             [
              0.7777777777777778,
              "#fb9f3a"
             ],
             [
              0.8888888888888888,
              "#fdca26"
             ],
             [
              1,
              "#f0f921"
             ]
            ],
            "type": "histogram2d"
           }
          ],
          "histogram2dcontour": [
           {
            "colorbar": {
             "outlinewidth": 0,
             "ticks": ""
            },
            "colorscale": [
             [
              0,
              "#0d0887"
             ],
             [
              0.1111111111111111,
              "#46039f"
             ],
             [
              0.2222222222222222,
              "#7201a8"
             ],
             [
              0.3333333333333333,
              "#9c179e"
             ],
             [
              0.4444444444444444,
              "#bd3786"
             ],
             [
              0.5555555555555556,
              "#d8576b"
             ],
             [
              0.6666666666666666,
              "#ed7953"
             ],
             [
              0.7777777777777778,
              "#fb9f3a"
             ],
             [
              0.8888888888888888,
              "#fdca26"
             ],
             [
              1,
              "#f0f921"
             ]
            ],
            "type": "histogram2dcontour"
           }
          ],
          "mesh3d": [
           {
            "colorbar": {
             "outlinewidth": 0,
             "ticks": ""
            },
            "type": "mesh3d"
           }
          ],
          "parcoords": [
           {
            "line": {
             "colorbar": {
              "outlinewidth": 0,
              "ticks": ""
             }
            },
            "type": "parcoords"
           }
          ],
          "pie": [
           {
            "automargin": true,
            "type": "pie"
           }
          ],
          "scatter": [
           {
            "fillpattern": {
             "fillmode": "overlay",
             "size": 10,
             "solidity": 0.2
            },
            "type": "scatter"
           }
          ],
          "scatter3d": [
           {
            "line": {
             "colorbar": {
              "outlinewidth": 0,
              "ticks": ""
             }
            },
            "marker": {
             "colorbar": {
              "outlinewidth": 0,
              "ticks": ""
             }
            },
            "type": "scatter3d"
           }
          ],
          "scattercarpet": [
           {
            "marker": {
             "colorbar": {
              "outlinewidth": 0,
              "ticks": ""
             }
            },
            "type": "scattercarpet"
           }
          ],
          "scattergeo": [
           {
            "marker": {
             "colorbar": {
              "outlinewidth": 0,
              "ticks": ""
             }
            },
            "type": "scattergeo"
           }
          ],
          "scattergl": [
           {
            "marker": {
             "colorbar": {
              "outlinewidth": 0,
              "ticks": ""
             }
            },
            "type": "scattergl"
           }
          ],
          "scattermapbox": [
           {
            "marker": {
             "colorbar": {
              "outlinewidth": 0,
              "ticks": ""
             }
            },
            "type": "scattermapbox"
           }
          ],
          "scatterpolar": [
           {
            "marker": {
             "colorbar": {
              "outlinewidth": 0,
              "ticks": ""
             }
            },
            "type": "scatterpolar"
           }
          ],
          "scatterpolargl": [
           {
            "marker": {
             "colorbar": {
              "outlinewidth": 0,
              "ticks": ""
             }
            },
            "type": "scatterpolargl"
           }
          ],
          "scatterternary": [
           {
            "marker": {
             "colorbar": {
              "outlinewidth": 0,
              "ticks": ""
             }
            },
            "type": "scatterternary"
           }
          ],
          "surface": [
           {
            "colorbar": {
             "outlinewidth": 0,
             "ticks": ""
            },
            "colorscale": [
             [
              0,
              "#0d0887"
             ],
             [
              0.1111111111111111,
              "#46039f"
             ],
             [
              0.2222222222222222,
              "#7201a8"
             ],
             [
              0.3333333333333333,
              "#9c179e"
             ],
             [
              0.4444444444444444,
              "#bd3786"
             ],
             [
              0.5555555555555556,
              "#d8576b"
             ],
             [
              0.6666666666666666,
              "#ed7953"
             ],
             [
              0.7777777777777778,
              "#fb9f3a"
             ],
             [
              0.8888888888888888,
              "#fdca26"
             ],
             [
              1,
              "#f0f921"
             ]
            ],
            "type": "surface"
           }
          ],
          "table": [
           {
            "cells": {
             "fill": {
              "color": "#EBF0F8"
             },
             "line": {
              "color": "white"
             }
            },
            "header": {
             "fill": {
              "color": "#C8D4E3"
             },
             "line": {
              "color": "white"
             }
            },
            "type": "table"
           }
          ]
         },
         "layout": {
          "annotationdefaults": {
           "arrowcolor": "#2a3f5f",
           "arrowhead": 0,
           "arrowwidth": 1
          },
          "autotypenumbers": "strict",
          "coloraxis": {
           "colorbar": {
            "outlinewidth": 0,
            "ticks": ""
           }
          },
          "colorscale": {
           "diverging": [
            [
             0,
             "#8e0152"
            ],
            [
             0.1,
             "#c51b7d"
            ],
            [
             0.2,
             "#de77ae"
            ],
            [
             0.3,
             "#f1b6da"
            ],
            [
             0.4,
             "#fde0ef"
            ],
            [
             0.5,
             "#f7f7f7"
            ],
            [
             0.6,
             "#e6f5d0"
            ],
            [
             0.7,
             "#b8e186"
            ],
            [
             0.8,
             "#7fbc41"
            ],
            [
             0.9,
             "#4d9221"
            ],
            [
             1,
             "#276419"
            ]
           ],
           "sequential": [
            [
             0,
             "#0d0887"
            ],
            [
             0.1111111111111111,
             "#46039f"
            ],
            [
             0.2222222222222222,
             "#7201a8"
            ],
            [
             0.3333333333333333,
             "#9c179e"
            ],
            [
             0.4444444444444444,
             "#bd3786"
            ],
            [
             0.5555555555555556,
             "#d8576b"
            ],
            [
             0.6666666666666666,
             "#ed7953"
            ],
            [
             0.7777777777777778,
             "#fb9f3a"
            ],
            [
             0.8888888888888888,
             "#fdca26"
            ],
            [
             1,
             "#f0f921"
            ]
           ],
           "sequentialminus": [
            [
             0,
             "#0d0887"
            ],
            [
             0.1111111111111111,
             "#46039f"
            ],
            [
             0.2222222222222222,
             "#7201a8"
            ],
            [
             0.3333333333333333,
             "#9c179e"
            ],
            [
             0.4444444444444444,
             "#bd3786"
            ],
            [
             0.5555555555555556,
             "#d8576b"
            ],
            [
             0.6666666666666666,
             "#ed7953"
            ],
            [
             0.7777777777777778,
             "#fb9f3a"
            ],
            [
             0.8888888888888888,
             "#fdca26"
            ],
            [
             1,
             "#f0f921"
            ]
           ]
          },
          "colorway": [
           "#636efa",
           "#EF553B",
           "#00cc96",
           "#ab63fa",
           "#FFA15A",
           "#19d3f3",
           "#FF6692",
           "#B6E880",
           "#FF97FF",
           "#FECB52"
          ],
          "font": {
           "color": "#2a3f5f"
          },
          "geo": {
           "bgcolor": "white",
           "lakecolor": "white",
           "landcolor": "#E5ECF6",
           "showlakes": true,
           "showland": true,
           "subunitcolor": "white"
          },
          "hoverlabel": {
           "align": "left"
          },
          "hovermode": "closest",
          "mapbox": {
           "style": "light"
          },
          "paper_bgcolor": "white",
          "plot_bgcolor": "#E5ECF6",
          "polar": {
           "angularaxis": {
            "gridcolor": "white",
            "linecolor": "white",
            "ticks": ""
           },
           "bgcolor": "#E5ECF6",
           "radialaxis": {
            "gridcolor": "white",
            "linecolor": "white",
            "ticks": ""
           }
          },
          "scene": {
           "xaxis": {
            "backgroundcolor": "#E5ECF6",
            "gridcolor": "white",
            "gridwidth": 2,
            "linecolor": "white",
            "showbackground": true,
            "ticks": "",
            "zerolinecolor": "white"
           },
           "yaxis": {
            "backgroundcolor": "#E5ECF6",
            "gridcolor": "white",
            "gridwidth": 2,
            "linecolor": "white",
            "showbackground": true,
            "ticks": "",
            "zerolinecolor": "white"
           },
           "zaxis": {
            "backgroundcolor": "#E5ECF6",
            "gridcolor": "white",
            "gridwidth": 2,
            "linecolor": "white",
            "showbackground": true,
            "ticks": "",
            "zerolinecolor": "white"
           }
          },
          "shapedefaults": {
           "line": {
            "color": "#2a3f5f"
           }
          },
          "ternary": {
           "aaxis": {
            "gridcolor": "white",
            "linecolor": "white",
            "ticks": ""
           },
           "baxis": {
            "gridcolor": "white",
            "linecolor": "white",
            "ticks": ""
           },
           "bgcolor": "#E5ECF6",
           "caxis": {
            "gridcolor": "white",
            "linecolor": "white",
            "ticks": ""
           }
          },
          "title": {
           "x": 0.05
          },
          "xaxis": {
           "automargin": true,
           "gridcolor": "white",
           "linecolor": "white",
           "ticks": "",
           "title": {
            "standoff": 15
           },
           "zerolinecolor": "white",
           "zerolinewidth": 2
          },
          "yaxis": {
           "automargin": true,
           "gridcolor": "white",
           "linecolor": "white",
           "ticks": "",
           "title": {
            "standoff": 15
           },
           "zerolinecolor": "white",
           "zerolinewidth": 2
          }
         }
        },
        "title": {
         "text": "Top 5 Canais com as Musicas Mais Visualizadas no YouTube",
         "x": 0.5
        },
        "xaxis": {
         "anchor": "y",
         "domain": [
          0,
          1
         ],
         "title": {
          "text": "Canais"
         }
        },
        "yaxis": {
         "anchor": "x",
         "categoryorder": "total ascending",
         "domain": [
          0,
          1
         ],
         "title": {
          "text": "Visualizações"
         }
        }
       }
      }
     },
     "metadata": {},
     "output_type": "display_data"
    }
   ],
   "source": [
    "#Demostração utilizando a biblioteca Plotly\n",
    "import plotly.express as px\n",
    "\n",
    "figura = px.bar(\n",
    "    df_sorted,\n",
    "    x='channel',\n",
    "    y='view_count',\n",
    "    orientation='v',  \n",
    "    title='Top 5 Canais com as Musicas Mais Visualizadas no YouTube',\n",
    "    labels={'Quantidade de Wiews ': 'Visualizações', 'Canais ': 'Canal'},\n",
    "    text='view_count',  \n",
    "    color='view_count',  \n",
    "    color_continuous_scale='Purples'\n",
    ")\n",
    "\n",
    "figura.update_layout(\n",
    "    yaxis={'categoryorder':'total ascending'},  \n",
    "    xaxis_title='Canais',\n",
    "    yaxis_title='Visualizações',\n",
    "    title_x=0.5, \n",
    "    font=dict(size=12)\n",
    ")\n",
    "\n",
    "fig.show()"
   ]
  },
  {
   "cell_type": "code",
   "execution_count": null,
   "id": "942e985c",
   "metadata": {},
   "outputs": [],
   "source": []
  }
 ],
 "metadata": {
  "kernelspec": {
   "display_name": "base",
   "language": "python",
   "name": "python3"
  },
  "language_info": {
   "codemirror_mode": {
    "name": "ipython",
    "version": 3
   },
   "file_extension": ".py",
   "mimetype": "text/x-python",
   "name": "python",
   "nbconvert_exporter": "python",
   "pygments_lexer": "ipython3",
   "version": "3.12.7"
  }
 },
 "nbformat": 4,
 "nbformat_minor": 5
}
